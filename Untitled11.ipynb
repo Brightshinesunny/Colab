{
  "nbformat": 4,
  "nbformat_minor": 0,
  "metadata": {
    "colab": {
      "provenance": [],
      "authorship_tag": "ABX9TyOVjGKQx1pQ8hiV+rDQZHBq",
      "include_colab_link": true
    },
    "kernelspec": {
      "name": "python3",
      "display_name": "Python 3"
    },
    "language_info": {
      "name": "python"
    }
  },
  "cells": [
    {
      "cell_type": "markdown",
      "metadata": {
        "id": "view-in-github",
        "colab_type": "text"
      },
      "source": [
        "<a href=\"https://colab.research.google.com/github/Brightshinesunny/Colab/blob/Test/Untitled11.ipynb\" target=\"_parent\"><img src=\"https://colab.research.google.com/assets/colab-badge.svg\" alt=\"Open In Colab\"/></a>"
      ]
    },
    {
      "cell_type": "code",
      "execution_count": 1,
      "metadata": {
        "colab": {
          "base_uri": "https://localhost:8080/",
          "height": 171
        },
        "id": "j7v8G4W31dG9",
        "outputId": "83ad87b4-8dd9-4359-fed2-bd95a5c7a331"
      },
      "outputs": [
        {
          "output_type": "display_data",
          "data": {
            "text/plain": [
              "<IPython.core.display.HTML object>"
            ],
            "text/html": [
              "\n",
              "<style>\n",
              "    /* Turns off some styling */\n",
              "    progress {\n",
              "        /* gets rid of default border in Firefox and Opera. */\n",
              "        border: none;\n",
              "        /* Needs to be in here for Safari polyfill so background images work as expected. */\n",
              "        background-size: auto;\n",
              "    }\n",
              "    progress:not([value]), progress:not([value])::-webkit-progress-bar {\n",
              "        background: repeating-linear-gradient(45deg, #7e7e7e, #7e7e7e 10px, #5c5c5c 10px, #5c5c5c 20px);\n",
              "    }\n",
              "    .progress-bar-interrupted, .progress-bar-interrupted::-webkit-progress-bar {\n",
              "        background: #F44336;\n",
              "    }\n",
              "</style>\n"
            ]
          },
          "metadata": {}
        },
        {
          "output_type": "display_data",
          "data": {
            "text/plain": [
              "<IPython.core.display.HTML object>"
            ],
            "text/html": [
              "\n",
              "    <div>\n",
              "      <progress value='3000' class='' max='3000' style='width:300px; height:20px; vertical-align: middle;'></progress>\n",
              "      100.00% [3000/3000 00:03&lt;00:00 Sampling chain 0, 0 divergences]\n",
              "    </div>\n",
              "    "
            ]
          },
          "metadata": {}
        },
        {
          "output_type": "display_data",
          "data": {
            "text/plain": [
              "<IPython.core.display.HTML object>"
            ],
            "text/html": [
              "\n",
              "<style>\n",
              "    /* Turns off some styling */\n",
              "    progress {\n",
              "        /* gets rid of default border in Firefox and Opera. */\n",
              "        border: none;\n",
              "        /* Needs to be in here for Safari polyfill so background images work as expected. */\n",
              "        background-size: auto;\n",
              "    }\n",
              "    progress:not([value]), progress:not([value])::-webkit-progress-bar {\n",
              "        background: repeating-linear-gradient(45deg, #7e7e7e, #7e7e7e 10px, #5c5c5c 10px, #5c5c5c 20px);\n",
              "    }\n",
              "    .progress-bar-interrupted, .progress-bar-interrupted::-webkit-progress-bar {\n",
              "        background: #F44336;\n",
              "    }\n",
              "</style>\n"
            ]
          },
          "metadata": {}
        },
        {
          "output_type": "display_data",
          "data": {
            "text/plain": [
              "<IPython.core.display.HTML object>"
            ],
            "text/html": [
              "\n",
              "    <div>\n",
              "      <progress value='3000' class='' max='3000' style='width:300px; height:20px; vertical-align: middle;'></progress>\n",
              "      100.00% [3000/3000 00:03&lt;00:00 Sampling chain 1, 0 divergences]\n",
              "    </div>\n",
              "    "
            ]
          },
          "metadata": {}
        },
        {
          "output_type": "stream",
          "name": "stdout",
          "text": [
            "Parameter: M_c, p-value: 0.9885\n",
            "Parameter: eta, p-value: 0.9985\n",
            "Parameter: Lambda, p-value: 0.9955\n",
            "Parameter: delta_Lambda, p-value: 0.9855\n",
            "Parameter: t_c, p-value: 0.988\n",
            "Parameter: phi_c, p-value: 0.989\n"
          ]
        }
      ],
      "source": [
        "import numpy as np\n",
        "import pymc as pm\n",
        "import arviz as az\n",
        "import matplotlib.pyplot as plt\n",
        "\n",
        "# Define the Fisher matrix\n",
        "fisher_matrix = np.array([\n",
        "    [2.54444e+10, -3.55773e+09, 3.63459e+02, -2.68738e+00, -1.11757e+09, -3.86419e+06],\n",
        "    [-3.55773e+09, 6.60399e+08, -2.29731e+02, 3.13757e+00, 3.97446e+08, 8.33542e+05],\n",
        "    [3.63459e+02, -2.29731e+02, 3.41294e-03, -9.41965e-05, -1.7388e+03, -6.23024e-01],\n",
        "    [-2.68738e+00, 3.13757e+00, -9.41965e-05, 2.74312e-06, 4.22477e+01, 1.10692e-02],\n",
        "    [-1.11757e+09, 3.97446e+08, -1.7388e+03, 4.22477e+01, 1.18004e+09, 7.63258e+05],\n",
        "    [-3.86419e+06, 8.33542e+05, -6.23024e-01, 1.10692e-02, 7.63258e+05, 1.156e+03]\n",
        "])\n",
        "\n",
        "# Define the model\n",
        "with pm.Model() as model:\n",
        "    # Priors for the parameters\n",
        "    M_c = pm.Normal('M_c', mu=0, sigma=1)\n",
        "    eta = pm.Normal('eta', mu=0, sigma=1)\n",
        "    Lambda = pm.Normal('Lambda', mu=0, sigma=1)\n",
        "    delta_Lambda = pm.Normal('delta_Lambda', mu=0, sigma=1)\n",
        "    t_c = pm.Normal('t_c', mu=0, sigma=1)\n",
        "    phi_c = pm.Normal('phi_c', mu=0, sigma=1)\n",
        "\n",
        "    # Stack the parameters into a single vector (for convenience later)\n",
        "    parameters = pm.math.stack([M_c, eta, Lambda, delta_Lambda, t_c, phi_c])\n",
        "\n",
        "    # Define the multivariate normal distribution with the Fisher matrix as the precision matrix\n",
        "    # Using zeros as a placeholder for the observed data\n",
        "    observed_data = np.zeros(6)\n",
        "    theta = pm.MvNormal('theta', mu=np.zeros(6), tau=np.linalg.inv(fisher_matrix), observed=observed_data)\n",
        "\n",
        "    # Perform inference with more tuning\n",
        "    trace = pm.sample(2000, tune=1000, return_inferencedata=True)\n",
        "\n",
        "# Calculate p-values for each parameter\n",
        "posterior_samples = trace.posterior\n",
        "\n",
        "p_values = {}\n",
        "for var in ['M_c', 'eta', 'Lambda', 'delta_Lambda', 't_c', 'phi_c']:\n",
        "    samples = posterior_samples[var].values.flatten()\n",
        "    p_value = 2 * min(np.mean(samples > 0), np.mean(samples < 0))\n",
        "    p_values[var] = p_value\n",
        "\n",
        "# Display p-values\n",
        "for var, p_value in p_values.items():\n",
        "    print(f'Parameter: {var}, p-value: {p_value}')\n"
      ]
    }
  ]
}